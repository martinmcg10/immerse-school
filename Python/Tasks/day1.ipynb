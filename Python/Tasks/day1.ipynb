{
 "cells": [
  {
   "cell_type": "code",
   "execution_count": 6,
   "id": "01ba83c0",
   "metadata": {},
   "outputs": [
    {
     "name": "stdout",
     "output_type": "stream",
     "text": [
      "Hello, world!\n"
     ]
    }
   ],
   "source": [
    "print(\"Hello, world!\")\n"
   ]
  },
  {
   "cell_type": "code",
   "execution_count": 7,
   "id": "f850349d",
   "metadata": {},
   "outputs": [
    {
     "name": "stdout",
     "output_type": "stream",
     "text": [
      "The sum of your two numbers is 13\n",
      "The difference of your two numbers is -3\n",
      "The product of your two numbers is 40\n",
      "The quotient of your two numbers is 0.625\n"
     ]
    }
   ],
   "source": [
    "n1 = int(input(\"Please enter your first number\"))\n",
    "n2 = int(input(\"Please enter your second number\"))\n",
    "\n",
    "print(f\"The sum of your two numbers is {n1 + n2}\")\n",
    "print(f\"The difference of your two numbers is {n1 - n2}\")\n",
    "print(f\"The product of your two numbers is {n1 * n2}\")\n",
    "if n2 == 0:\n",
    "    print(\"Cannot divide by 0\")\n",
    "else:\n",
    "    print(f\"The quotient of your two numbers is {n1 / n2}\")"
   ]
  },
  {
   "cell_type": "code",
   "execution_count": 8,
   "id": "c01cacbf",
   "metadata": {},
   "outputs": [
    {
     "name": "stdout",
     "output_type": "stream",
     "text": [
      "You are currently 1969 years old\n"
     ]
    }
   ],
   "source": [
    "Cyear = 2025\n",
    "Byear = int(input(\"Please enter your birth year\"))\n",
    "\n",
    "age = Cyear - Byear\n",
    "\n",
    "print(f\"You are currently {age} years old\")"
   ]
  },
  {
   "cell_type": "code",
   "execution_count": 9,
   "id": "2d7858e2",
   "metadata": {},
   "outputs": [
    {
     "name": "stdout",
     "output_type": "stream",
     "text": [
      "80820.0\n"
     ]
    }
   ],
   "source": [
    "def add(x,y):\n",
    "    print( x + y)\n",
    "\n",
    "def sub(x,y):\n",
    "    print(x - y)\n",
    "\n",
    "def mult(x,y):\n",
    "    print( x * y)\n",
    "\n",
    "def div(x,y):\n",
    "    print(x / y)\n",
    "\n",
    "x = float(input(\"Please enter your first number\"))\n",
    "y = float(input(\"Please enter your second number\"))\n",
    "\n",
    "opp = str(input(\"Please choose one of the following operations:  A - add     B - subtract       C - multiply       D - divide\"))\n",
    "\n",
    "if opp == \"A\" or opp == \"a\":\n",
    "    add(x,y)\n",
    "\n",
    "if opp == \"B\" or opp == \"b\":\n",
    "    sub(x,y)\n",
    "\n",
    "if opp == \"C\" or opp == \"c\":\n",
    "    mult(x,y)\n",
    "\n",
    "\n",
    "if opp == \"D\" or opp == \"d\":\n",
    "    div(x,y)\n"
   ]
  },
  {
   "cell_type": "code",
   "execution_count": 10,
   "id": "5114acea",
   "metadata": {},
   "outputs": [
    {
     "name": "stdout",
     "output_type": "stream",
     "text": [
      "[2, 4, 6, 8, 10]\n",
      "[1, 3, 5, 7, 9]\n"
     ]
    }
   ],
   "source": [
    "list = [1,2,3,4,5,6,7,8,9,10]\n",
    "evens = []\n",
    "odds = []\n",
    "\n",
    "for i in range(10):\n",
    "    if (list[i] % 2) == 0:\n",
    "        evens.append(list[i])\n",
    "    else:\n",
    "        odds.append(list[i])\n",
    "        \n",
    "print(evens)\n",
    "print(odds)    "
   ]
  },
  {
   "cell_type": "code",
   "execution_count": 11,
   "id": "4893ab32",
   "metadata": {},
   "outputs": [
    {
     "name": "stdout",
     "output_type": "stream",
     "text": [
      "Old array: [[5, 1, 2], [0, 0, 3], [0, 0, 0]]\n",
      "New array: [[5, 0, 0], [1, 0, 0], [2, 3, 0]]\n"
     ]
    }
   ],
   "source": [
    "result = [[5,1,2],\n",
    "          [0,0,3],\n",
    "          [0,0,0]]\n",
    "\n",
    "NewResult = [[0,0,0],\n",
    "             [0,0,0],\n",
    "             [0,0,0]]\n",
    "\n",
    "\n",
    "for i in range(3):\n",
    "    for j in range(3):\n",
    "        NewResult[i][j] = result[j][i]\n",
    "\n",
    "print(f\"Old array: {result}\")\n",
    "print(f\"New array: {NewResult}\")\n"
   ]
  },
  {
   "cell_type": "code",
   "execution_count": 12,
   "id": "ef69796c",
   "metadata": {},
   "outputs": [
    {
     "name": "stdout",
     "output_type": "stream",
     "text": [
      "{'tim': 15, 'bob': 20, 'alice': 25, 'John': 30, 'mary': 40}\n"
     ]
    }
   ],
   "source": [
    "names = ['tim', 'bob', 'alice', 'John', 'mary']\n",
    "ages = [15, 20, 25, 30, 40]\n",
    "dictionary = {}\n",
    "\n",
    "for i in range(5):\n",
    "    for j in range( i + 1,5):\n",
    "        if names[i] == names[j]:\n",
    "            print(\"Duplicates Found\")\n",
    "\n",
    "\n",
    "for x in range(5):\n",
    "    dictionary[names[x]] = ages[x] \n",
    "    \n",
    "   \n",
    "\n",
    "print(dictionary)\n",
    "    "
   ]
  }
 ],
 "metadata": {
  "kernelspec": {
   "display_name": ".venv",
   "language": "python",
   "name": "python3"
  },
  "language_info": {
   "codemirror_mode": {
    "name": "ipython",
    "version": 3
   },
   "file_extension": ".py",
   "mimetype": "text/x-python",
   "name": "python",
   "nbconvert_exporter": "python",
   "pygments_lexer": "ipython3",
   "version": "3.13.3"
  }
 },
 "nbformat": 4,
 "nbformat_minor": 5
}
