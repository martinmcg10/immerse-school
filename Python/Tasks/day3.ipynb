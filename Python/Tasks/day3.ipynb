{
 "cells": [
  {
   "cell_type": "code",
   "execution_count": 10,
   "id": "545ca1f7",
   "metadata": {},
   "outputs": [
    {
     "name": "stdout",
     "output_type": "stream",
     "text": [
      "True\n"
     ]
    }
   ],
   "source": [
    "# Any number of As followed by the same number of Bs\n",
    "\n",
    "Valid = False\n",
    "\n",
    "\n",
    "while Valid == False:\n",
    "    inp = input(\"Please enter the username\")\n",
    "    chars = list(inp)\n",
    "    AA = 0\n",
    "    BB = 0\n",
    "    for x in range(len(inp)):\n",
    "        if chars[x] == \"a\":\n",
    "            AA  += 1\n",
    "        elif chars[x] == \"b\":\n",
    "            BB += 1\n",
    "\n",
    "    if AA == BB:\n",
    "        Valid = True\n",
    "    else:\n",
    "        Valid = False\n",
    "\n",
    "print(Valid)\n",
    "\n",
    "\n",
    "\n"
   ]
  }
 ],
 "metadata": {
  "kernelspec": {
   "display_name": ".venv",
   "language": "python",
   "name": "python3"
  },
  "language_info": {
   "codemirror_mode": {
    "name": "ipython",
    "version": 3
   },
   "file_extension": ".py",
   "mimetype": "text/x-python",
   "name": "python",
   "nbconvert_exporter": "python",
   "pygments_lexer": "ipython3",
   "version": "3.13.3"
  }
 },
 "nbformat": 4,
 "nbformat_minor": 5
}
