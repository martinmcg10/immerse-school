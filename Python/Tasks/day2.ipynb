{
 "cells": [
  {
   "cell_type": "code",
   "execution_count": null,
   "id": "0df4abda",
   "metadata": {},
   "outputs": [
    {
     "name": "stdout",
     "output_type": "stream",
     "text": [
      "ABC123\n",
      "The current speed is 120mph\n",
      " green\n",
      "5 passengers\n"
     ]
    }
   ],
   "source": [
    "class vehicle:\n",
    "    def __init__(self, colour, noOfwheels):\n",
    "        self.colour = colour\n",
    "        self.noOfwheels = noOfwheels\n",
    "\n",
    "    def currentspeed(self):\n",
    "        print(\"I don't know\")\n",
    "\n",
    "    def noOfpassangers(self):\n",
    "        print(\"I don't know\")\n",
    "\n",
    "    def getcolour(self):\n",
    "        print(f\"{self.colour}\")\n",
    "    \n",
    "    def wheels(self):\n",
    "        print(f\"{self.wheels}\")\n",
    "\n",
    "\n",
    "\n",
    "class car(vehicle):\n",
    "    def __init__(self, colour, noOfwheels, plateNo):\n",
    "        super().__init__(colour, noOfwheels)\n",
    "        self.plateNo = plateNo\n",
    "\n",
    "    def currentspeed(self):\n",
    "        print(\"The current speed is 120mph\")\n",
    "\n",
    "    def noOfpassangers(self):\n",
    "        print(\"5 passengers\")\n",
    "\n",
    "    def getplate(self):\n",
    "        print(f\"{self.plateNo}\")\n",
    "\n",
    "class bike(vehicle):\n",
    "    def __init__(self,colour,noOfwheels):\n",
    "        super().__init__(colour, noOfwheels)\n",
    "\n",
    "    def currentspeed(self):\n",
    "        print(\"The current speed is 12mph\")\n",
    "\n",
    "    def noOfpassangers(self):\n",
    "        print(\"1 passengers\")\n",
    "\n",
    "\n",
    "\n",
    "Car = car(\"green\", 6 , \"ABC123\")\n",
    "Car.getplate()\n",
    "Car.currentspeed()\n",
    "Car.getcolour()\n",
    "Car.noOfpassangers()\n",
    "    \n",
    "\n"
   ]
  }
 ],
 "metadata": {
  "kernelspec": {
   "display_name": ".venv",
   "language": "python",
   "name": "python3"
  },
  "language_info": {
   "codemirror_mode": {
    "name": "ipython",
    "version": 3
   },
   "file_extension": ".py",
   "mimetype": "text/x-python",
   "name": "python",
   "nbconvert_exporter": "python",
   "pygments_lexer": "ipython3",
   "version": "3.13.3"
  }
 },
 "nbformat": 4,
 "nbformat_minor": 5
}
